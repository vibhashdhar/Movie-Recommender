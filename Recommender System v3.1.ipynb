{
 "cells": [
  {
   "cell_type": "markdown",
   "id": "3b7ed7ca",
   "metadata": {},
   "source": [
    "# Movie Recommendation System Using Scikit-Learn\n",
    "\n",
    "There are many types of recommender systems:\n",
    "+ **Collaborative filtering** : The main idea behind these methods is to use other users’ preferences and taste to recommend new items to a user. The usual procedure is to find similar users (or items) to recommend new items which were liked by those users, and which presumably will also be liked by the user being recommended.\n",
    "+ **Content-Based filtering** : Content-based filtering methods are based on a description of the item and a profile of the user's preferences.\n",
    "+ **Hybrid** : Includes techniques combining collaborative filtering, content based and other possible approaches. Nowadays most recommender systems are hybrid.\n",
    "\n",
    "### Our Movie Recommender System\n",
    "\n",
    "We are using a hybrid approach in our recommender system - content-based filtering using a TF-IDF vectorizer and then Collaborative filtering using Nearest Neighbor Algorithm to make movie recommendations.\n",
    "\n",
    "#### The Movielens Dataset\n",
    "\n",
    "The dataset can be found here - https://grouplens.org/datasets/movielens/"
   ]
  },
  {
   "cell_type": "markdown",
   "id": "f3eb429e",
   "metadata": {},
   "source": [
    "---"
   ]
  },
  {
   "cell_type": "markdown",
   "id": "95f061c5",
   "metadata": {},
   "source": [
    "### Import packages and read the data"
   ]
  },
  {
   "cell_type": "code",
   "execution_count": null,
   "id": "f9c87b04",
   "metadata": {},
   "outputs": [],
   "source": [
    "import numpy as np\n",
    "import pandas as pd\n",
    "import warnings\n",
    "\n",
    "warnings.filterwarnings('ignore')\n",
    "pd.set_option('display.max_colwidth', None) # don't truncate the columns of the data frame while printing"
   ]
  },
  {
   "cell_type": "code",
   "execution_count": null,
   "id": "da08281a",
   "metadata": {},
   "outputs": [],
   "source": [
    "ratings = pd.read_csv('rating.csv')"
   ]
  },
  {
   "cell_type": "code",
   "execution_count": null,
   "id": "2f2b062d",
   "metadata": {},
   "outputs": [],
   "source": [
    "ratings.head()"
   ]
  },
  {
   "cell_type": "code",
   "execution_count": null,
   "id": "96a39f42",
   "metadata": {},
   "outputs": [],
   "source": [
    "movies = pd.read_csv('movie.csv', index_col='movieId')\n",
    "movies.head()"
   ]
  },
  {
   "cell_type": "markdown",
   "id": "82c72e92",
   "metadata": {},
   "source": [
    "---"
   ]
  },
  {
   "cell_type": "markdown",
   "id": "0e22925e",
   "metadata": {},
   "source": [
    "### Manipulating the Genres column\n",
    "\n",
    "**Genres are present with a '|' delimiter which will cause problems as we start applying ML Models. Thus, we change it to string type and comma separated entity**"
   ]
  },
  {
   "cell_type": "code",
   "execution_count": null,
   "id": "4d2862b3",
   "metadata": {},
   "outputs": [],
   "source": [
    "# Break up the big genre string into a string array\n",
    "movies['genres'] = movies['genres'].str.split('|')\n",
    "\n",
    "# Convert genres to string value\n",
    "movies['genres'] = movies['genres'].fillna(\"\").astype('str')\n",
    "\n",
    "movies.head()"
   ]
  },
  {
   "cell_type": "code",
   "execution_count": null,
   "id": "e5e4fc29",
   "metadata": {},
   "outputs": [],
   "source": [
    "movies.shape"
   ]
  },
  {
   "cell_type": "markdown",
   "id": "730f089f",
   "metadata": {},
   "source": [
    "---"
   ]
  },
  {
   "cell_type": "markdown",
   "id": "f5441722",
   "metadata": {},
   "source": [
    "##### Create a dataset like 'movies' but with natural indices starting from 0"
   ]
  },
  {
   "cell_type": "code",
   "execution_count": null,
   "id": "1d6af9c9",
   "metadata": {},
   "outputs": [],
   "source": [
    "movies_genre = movies.reset_index()\n",
    "movies_genre.head()"
   ]
  },
  {
   "cell_type": "markdown",
   "id": "956e6ea2",
   "metadata": {},
   "source": [
    "---"
   ]
  },
  {
   "cell_type": "markdown",
   "id": "645c006f",
   "metadata": {},
   "source": [
    "## Content Based Recommendations\n",
    "\n",
    "**Analyzing the contents of the movie such as genre and getting movies with similar content by ranking the similarity scores calculated using the Linear_kernel function in Scikit-Learn.**\n",
    "\n",
    "TF-IDF refers to Term Frequency-Inverse Document Frequency. TF is simply the frequency a word appears in a document. IDF is the inverse of the document frequency in the whole corpus of documents. The idea behind the TF-IDF is to dampen the effect of high-frequency words in determining the importance of an item.\n",
    "\n",
    "The fewer movies that contain a given genre the higher the resulting weight. "
   ]
  },
  {
   "cell_type": "markdown",
   "id": "131433b5",
   "metadata": {},
   "source": [
    "---"
   ]
  },
  {
   "cell_type": "markdown",
   "id": "8142b0db",
   "metadata": {},
   "source": [
    "#### Use the TF-IDF Vectorizer from scikit-learn to vectorize genres.\n",
    "\n",
    "Vectorization helps to implement ML models on text based features. In simple terms, TF-IDF vectorizer converts strings into vectors based on their frequency. Words with higher frequency are penalized, this helps in segregating important words from connecting words like 'the', 'is', 'in' etc.\n",
    "\n",
    "##### *TF-IDF Vectorizer parameter*\n",
    "\n",
    "+ **analyzer** = 'word';Feature is made of word ngram\n",
    "+ **ngram_range** = (1,2);(1, 2) means unigrams and bigrams\n",
    "+ **min_df** = 0;Ignores terms that have a document frequency strictly lower than 0\n",
    "+ **stop_words** = 'english';‘english’ is currently the only supported string value"
   ]
  },
  {
   "cell_type": "code",
   "execution_count": null,
   "id": "f99355c8",
   "metadata": {},
   "outputs": [],
   "source": [
    "from sklearn.feature_extraction.text import TfidfVectorizer\n",
    "tf = TfidfVectorizer(analyzer='word',ngram_range=(1, 2),min_df=0, stop_words='english')\n",
    "genre_matrix = tf.fit_transform(movies_genre['genres'])"
   ]
  },
  {
   "cell_type": "markdown",
   "id": "cda15e07",
   "metadata": {},
   "source": [
    "---"
   ]
  },
  {
   "cell_type": "markdown",
   "id": "c28a073c",
   "metadata": {},
   "source": [
    "##### **Using scikit-learn's linear_kernel function to generate cosine distances of the genre-matrix**\n",
    "\n",
    "Though scikit-learn comes with cosine-similarity module, in this case we can simply calculate the cosine distances using dot product of the matrix with itself. linear_kernel function is faster than cosine-similarity function for performing dot product operations.\n"
   ]
  },
  {
   "cell_type": "code",
   "execution_count": null,
   "id": "11dafde0",
   "metadata": {},
   "outputs": [],
   "source": [
    "from sklearn.metrics.pairwise import linear_kernel\n",
    "dis_cosine = linear_kernel(genre_matrix, genre_matrix)\n",
    "titles = movies_genre['title']\n",
    "idx = pd.Series(movies_genre.index, index=movies_genre['title'])"
   ]
  },
  {
   "cell_type": "markdown",
   "id": "c965b878",
   "metadata": {},
   "source": [
    "---"
   ]
  },
  {
   "cell_type": "markdown",
   "id": "b96cc447",
   "metadata": {},
   "source": [
    "### Importing and initializing scikit-learn's Nearest Neighbors to find closest matches using movie-ratings\n",
    "\n",
    "In the earlier steps, we created a means to create a cosine-similarity matrix based on genres. Now, we will use Nearest Neighbors with cosine-similarity metric to find movies similar to each other based on user ratings.\n",
    "\n",
    "We will combine results from both approaches to build the recommendation system that recommends similar movies based on genre as well as user ratings. In simple terms, **The Best of both Worlds**\n",
    "\n",
    "\n",
    "##### Model parameters\n",
    "\n",
    "+ **n_neighbors** = 10; Model will suggest 10 most similar movies\n",
    "+ **algorithm** = auto; Algorithm used to search for similar movies\n",
    "+ **metric** = cosine; Model will use cosine distance between movies to judge similarity\n",
    "+ **n_jobs** = -1; Number of parallel jobs used for search(-1 will use all processors)\n"
   ]
  },
  {
   "cell_type": "code",
   "execution_count": null,
   "id": "ba46fe31",
   "metadata": {},
   "outputs": [],
   "source": [
    "from sklearn.neighbors import NearestNeighbors"
   ]
  },
  {
   "cell_type": "code",
   "execution_count": null,
   "id": "f1567dd1",
   "metadata": {},
   "outputs": [],
   "source": [
    "model = NearestNeighbors(n_neighbors=11, algorithm='auto', metric='cosine', n_jobs = -1)"
   ]
  },
  {
   "cell_type": "markdown",
   "id": "ffa41317",
   "metadata": {},
   "source": [
    "---"
   ]
  },
  {
   "cell_type": "markdown",
   "id": "b9c469fb",
   "metadata": {},
   "source": [
    "### Function to combine both Models and recommend movies\n",
    "\n",
    "##### Working of the Function:\n",
    "\n",
    "+ Function takes in title of the movie as input.\n",
    "\n",
    "+ It maps index of the movie from idx dataset created during the vectorizer process\n",
    "\n",
    "+ It unstacks the sparse matrix of cosine distances, sorts them in Descending order and takes first 100 movies\n",
    "\n",
    "+ It finds those indices in movie_genre dataset and the resulting dataset is merged(inner join on 'movieId') with ratings dataset. We make sure the input movie is always contained in the resulting dataset.\n",
    "\n",
    "+ It creates a pivot table with index as movie titles, columns as reviewer's User IDs and values as ratings. We impute nulls as 0 for efficient processing.\n",
    "\n",
    "+ Nearest Neighbors model is fitted on the pivot table of movies-ratings.\n",
    "\n",
    "+ Then we use KNeighbors function of the model to find 10 best matches. Suggestions Data Frame is returned that contains Suggested Movie Titles and their Genres\n"
   ]
  },
  {
   "cell_type": "code",
   "execution_count": null,
   "id": "b83f46aa",
   "metadata": {},
   "outputs": [],
   "source": [
    "def recommend(title):\n",
    "    index = idx[title]\n",
    "    scores = list(enumerate(dis_cosine[index]))\n",
    "    scores = sorted(scores, key=lambda x: x[1], reverse=True)\n",
    "    scores = scores[1:101]\n",
    "    movie_indices = [i[0] for i in scores]\n",
    "    movie_indices.append(index)\n",
    "    genre_recommend = movies_genre.iloc[movie_indices]\n",
    "    \n",
    "    movies_suggested = genre_recommend.merge(ratings, on='movieId', how='inner')\n",
    "    pivot_movies = movies_suggested.pivot_table(index = 'title', columns='userId', values = 'rating').fillna(0)\n",
    "    \n",
    "    model.fit(pivot_movies)\n",
    "    \n",
    "    suggest = model.kneighbors(pivot_movies.loc[title, :].values.reshape(1,-1))[1]\n",
    "    \n",
    "    suggested = pd.DataFrame(pivot_movies.index[suggest].reshape(-1,1), columns=['title'])\n",
    "    \n",
    "    suggestions = suggested.merge(movies, on='title', how='inner')\n",
    "    \n",
    "    return suggestions\n",
    "    \n",
    "    "
   ]
  },
  {
   "cell_type": "markdown",
   "id": "4393bf73",
   "metadata": {},
   "source": [
    "---"
   ]
  },
  {
   "cell_type": "code",
   "execution_count": null,
   "id": "73fd5760",
   "metadata": {},
   "outputs": [],
   "source": [
    "recommend('Five Children and It (2004)')"
   ]
  },
  {
   "cell_type": "markdown",
   "id": "295dcff9",
   "metadata": {},
   "source": [
    "---"
   ]
  },
  {
   "cell_type": "code",
   "execution_count": null,
   "id": "adfa36ba",
   "metadata": {},
   "outputs": [],
   "source": [
    "recommend('Scarface (1983)')"
   ]
  },
  {
   "cell_type": "markdown",
   "id": "6fed4588",
   "metadata": {},
   "source": [
    "---"
   ]
  },
  {
   "cell_type": "code",
   "execution_count": null,
   "id": "311b5e60",
   "metadata": {},
   "outputs": [],
   "source": [
    "recommend(\"Captain Phillips (2013)\")"
   ]
  },
  {
   "cell_type": "markdown",
   "id": "73d3a88e",
   "metadata": {},
   "source": [
    "---"
   ]
  },
  {
   "cell_type": "code",
   "execution_count": null,
   "id": "cfadcce9",
   "metadata": {},
   "outputs": [],
   "source": [
    "recommend(\"Pulp Fiction (1994)\")"
   ]
  },
  {
   "cell_type": "markdown",
   "id": "91c14dda",
   "metadata": {},
   "source": [
    "---"
   ]
  },
  {
   "cell_type": "code",
   "execution_count": null,
   "id": "7b1f62d4",
   "metadata": {},
   "outputs": [],
   "source": [
    "recommend(\"Frozen (2013)\")"
   ]
  },
  {
   "cell_type": "markdown",
   "id": "0e3e952b",
   "metadata": {},
   "source": [
    "---"
   ]
  },
  {
   "cell_type": "code",
   "execution_count": null,
   "id": "fe191b82",
   "metadata": {},
   "outputs": [],
   "source": [
    "recommend(\"E.T. the Extra-Terrestrial (1982)\")"
   ]
  },
  {
   "cell_type": "markdown",
   "id": "24a94d95",
   "metadata": {},
   "source": [
    "---"
   ]
  },
  {
   "cell_type": "code",
   "execution_count": null,
   "id": "3ccd081e",
   "metadata": {},
   "outputs": [],
   "source": [
    "recommend(\"Psycho (1960)\")"
   ]
  },
  {
   "cell_type": "markdown",
   "id": "e4e6bd9f",
   "metadata": {},
   "source": [
    "---"
   ]
  },
  {
   "cell_type": "code",
   "execution_count": null,
   "id": "9c644387",
   "metadata": {},
   "outputs": [],
   "source": [
    "recommend(\"Saving Private Ryan (1998)\")"
   ]
  },
  {
   "cell_type": "markdown",
   "id": "d19d8f07",
   "metadata": {},
   "source": [
    "---"
   ]
  },
  {
   "cell_type": "code",
   "execution_count": null,
   "id": "838decd1",
   "metadata": {},
   "outputs": [],
   "source": [
    "recommend(\"Casablanca (1942)\")"
   ]
  },
  {
   "cell_type": "markdown",
   "id": "a02c5fb0",
   "metadata": {},
   "source": [
    "---"
   ]
  },
  {
   "cell_type": "code",
   "execution_count": null,
   "id": "462b1164",
   "metadata": {},
   "outputs": [],
   "source": [
    "recommend(\"Chicago (2002)\")"
   ]
  },
  {
   "cell_type": "markdown",
   "id": "3e5c3db8",
   "metadata": {},
   "source": [
    "---"
   ]
  },
  {
   "cell_type": "code",
   "execution_count": null,
   "id": "8e7a1790",
   "metadata": {},
   "outputs": [],
   "source": [
    "recommend(\"Jumanji (1995)\")"
   ]
  },
  {
   "cell_type": "markdown",
   "id": "275a6a32",
   "metadata": {},
   "source": [
    "---"
   ]
  }
 ],
 "metadata": {
  "kernelspec": {
   "display_name": "Python 3",
   "language": "python",
   "name": "python3"
  },
  "language_info": {
   "codemirror_mode": {
    "name": "ipython",
    "version": 3
   },
   "file_extension": ".py",
   "mimetype": "text/x-python",
   "name": "python",
   "nbconvert_exporter": "python",
   "pygments_lexer": "ipython3",
   "version": "3.9.2"
  }
 },
 "nbformat": 4,
 "nbformat_minor": 5
}
